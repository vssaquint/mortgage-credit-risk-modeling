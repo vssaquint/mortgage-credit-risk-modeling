{
 "cells": [
  {
   "cell_type": "markdown",
   "id": "a669904a-2905-486f-b477-86bd802400b1",
   "metadata": {},
   "source": [
    "**Course**: Advanced Econometrics and Financial Risk Management  \n",
    "**Assignment**: Capstone Project - Credit Risk Modeling  \n",
    "**Date**: March 2025  \n",
    "**Author**: Vanessa Quintero\n",
    "\n",
    "---\n",
    "\n",
    "## Learning Objectives \n",
    "\n",
    "1. Set up a professional data science environment for credit risk modeling\n",
    "2. Understand the project structure used by financial institutions\n",
    "3. Configure analysis parameters following industry standards\n",
    "4. Prepare the foundation for mortgage portfolio analysis\n",
    "\n",
    "---\n"
   ]
  },
  {
   "cell_type": "code",
   "execution_count": 1,
   "id": "8f495e6d-89f4-42a9-8e7c-69245fe249a0",
   "metadata": {},
   "outputs": [
    {
     "name": "stdout",
     "output_type": "stream",
     "text": [
      "Basic libraries imported successfully\n",
      "Pandas version: 2.2.2\n",
      "NumPy version: 1.26.4\n"
     ]
    }
   ],
   "source": [
    "\n",
    "# Import fundamental libraries for data manipulation\n",
    "import pandas as pd\n",
    "import numpy as np\n",
    "import os\n",
    "import sys\n",
    "from datetime import datetime, timedelta\n",
    "import warnings\n",
    "\n",
    "# Suppress warnings for cleaner output\n",
    "warnings.filterwarnings('ignore')\n",
    "\n",
    "print(\"Basic libraries imported successfully\")\n",
    "print(f\"Pandas version: {pd.__version__}\")\n",
    "print(f\"NumPy version: {np.__version__}\")\n",
    "\n",
    "\n"
   ]
  },
  {
   "cell_type": "code",
   "execution_count": 2,
   "id": "f65a6989-15d9-45b0-b9fa-496cfab4e82c",
   "metadata": {},
   "outputs": [
    {
     "name": "stdout",
     "output_type": "stream",
     "text": [
      "Visualization libraries configured\n",
      "Matplotlib version: 3.9.2\n",
      "Seaborn version: 0.13.2\n"
     ]
    }
   ],
   "source": [
    "\n",
    "# Import visualization libraries\n",
    "import matplotlib.pyplot as plt\n",
    "import seaborn as sns\n",
    "\n",
    "# Configure professional visualization settings\n",
    "plt.style.use('seaborn-v0_8-whitegrid')\n",
    "sns.set_palette(\"husl\")\n",
    "plt.rcParams['figure.figsize'] = (12, 8)\n",
    "plt.rcParams['font.size'] = 10\n",
    "plt.rcParams['axes.titlesize'] = 12\n",
    "\n",
    "print(\"Visualization libraries configured\")\n",
    "print(f\"Matplotlib version: {plt.matplotlib.__version__}\")\n",
    "print(f\"Seaborn version: {sns.__version__}\")\n"
   ]
  },
  {
   "cell_type": "code",
   "execution_count": 3,
   "id": "81cfe484-1b7f-4cb9-9b51-f282b2cb474f",
   "metadata": {},
   "outputs": [
    {
     "name": "stdout",
     "output_type": "stream",
     "text": [
      "Statistical libraries imported\n",
      "Available: statistical tests, econometric modeling, VIF analysis\n"
     ]
    }
   ],
   "source": [
    "\n",
    "\n",
    "# Import statistical analysis libraries\n",
    "from scipy import stats\n",
    "from scipy.stats import chi2_contingency, ks_2samp\n",
    "import statsmodels.api as sm\n",
    "from statsmodels.stats.outliers_influence import variance_inflation_factor\n",
    "\n",
    "print(\"Statistical libraries imported\")\n",
    "print(\"Available: statistical tests, econometric modeling, VIF analysis\")\n",
    "\n"
   ]
  },
  {
   "cell_type": "code",
   "execution_count": 4,
   "id": "9674a0a2-6b43-4d59-bd28-2639ecb78500",
   "metadata": {},
   "outputs": [
    {
     "name": "stdout",
     "output_type": "stream",
     "text": [
      "Machine learning libraries imported\n",
      "Models: Logistic Regression, Random Forest, Gradient Boosting\n",
      "Metrics: ROC-AUC, Precision-Recall, Brier Score\n"
     ]
    }
   ],
   "source": [
    "\n",
    "# Import machine learning libraries for credit risk modeling\n",
    "from sklearn.model_selection import train_test_split, cross_val_score, GridSearchCV\n",
    "from sklearn.linear_model import LogisticRegression\n",
    "from sklearn.ensemble import RandomForestClassifier, GradientBoostingClassifier\n",
    "from sklearn.metrics import (\n",
    "    classification_report, confusion_matrix, roc_auc_score, \n",
    "    roc_curve, precision_recall_curve, brier_score_loss\n",
    ")\n",
    "from sklearn.preprocessing import StandardScaler, LabelEncoder\n",
    "from sklearn.impute import SimpleImputer\n",
    "\n",
    "print(\"Machine learning libraries imported\")\n",
    "print(\"Models: Logistic Regression, Random Forest, Gradient Boosting\")\n",
    "print(\"Metrics: ROC-AUC, Precision-Recall, Brier Score\")\n"
   ]
  },
  {
   "cell_type": "code",
   "execution_count": 5,
   "id": "434e6183-52cc-4882-a838-b4cae78acbc0",
   "metadata": {},
   "outputs": [
    {
     "name": "stdout",
     "output_type": "stream",
     "text": [
      "Random seed set to 42\n",
      "All random operations will produce consistent results\n"
     ]
    }
   ],
   "source": [
    "\n",
    "# Set random seed for reproducible results\n",
    "RANDOM_SEED = 42\n",
    "np.random.seed(RANDOM_SEED)\n",
    "\n",
    "print(f\"Random seed set to {RANDOM_SEED}\")\n",
    "print(\"All random operations will produce consistent results\")\n",
    "\n"
   ]
  },
  {
   "cell_type": "code",
   "execution_count": 6,
   "id": "04bec020-9443-41c4-8394-ecf81d386a60",
   "metadata": {},
   "outputs": [
    {
     "name": "stdout",
     "output_type": "stream",
     "text": [
      "Project Directory Structure:\n",
      "Main folder: mortgage-credit-risk-modeling/\n",
      " 1. mortgage-credit-risk-modeling/notebooks\n",
      " 2. mortgage-credit-risk-modeling/data/raw\n",
      " 3. mortgage-credit-risk-modeling/data/processed\n",
      " 4. mortgage-credit-risk-modeling/data/synthetic\n",
      " 5. mortgage-credit-risk-modeling/models/saved_models\n",
      " 6. mortgage-credit-risk-modeling/models/model_artifacts\n",
      " 7. mortgage-credit-risk-modeling/results/figures\n",
      " 8. mortgage-credit-risk-modeling/results/tables\n",
      " 9. mortgage-credit-risk-modeling/results/reports\n",
      "10. mortgage-credit-risk-modeling/src\n",
      "11. mortgage-credit-risk-modeling/docs\n",
      "12. mortgage-credit-risk-modeling/tests\n"
     ]
    }
   ],
   "source": [
    "\n",
    "# Define project folder and directory structure\n",
    "PROJECT_FOLDER = \"mortgage-credit-risk-modeling\"\n",
    "\n",
    "PROJECT_DIRECTORIES = [\n",
    "    'notebooks',\n",
    "    'data/raw',\n",
    "    'data/processed',\n",
    "    'data/synthetic',\n",
    "    'models/saved_models',\n",
    "    'models/model_artifacts',\n",
    "    'results/figures',\n",
    "    'results/tables',\n",
    "    'results/reports',\n",
    "    'src',\n",
    "    'docs',\n",
    "    'tests'\n",
    "]\n",
    "\n",
    "print(\"Project Directory Structure:\")\n",
    "print(f\"Main folder: {PROJECT_FOLDER}/\")\n",
    "for i, directory in enumerate(PROJECT_DIRECTORIES, 1):\n",
    "    print(f\"{i:2}. {PROJECT_FOLDER}/{directory}\")"
   ]
  },
  {
   "cell_type": "code",
   "execution_count": 7,
   "id": "ebdb90e8-b247-46df-b647-40dbf3c476e2",
   "metadata": {},
   "outputs": [
    {
     "name": "stdout",
     "output_type": "stream",
     "text": [
      "Creating directories inside 'mortgage-credit-risk-modeling' folder...\n",
      "Created: mortgage-credit-risk-modeling/notebooks\n",
      "Created: mortgage-credit-risk-modeling/data/raw\n",
      "Created: mortgage-credit-risk-modeling/data/processed\n",
      "Created: mortgage-credit-risk-modeling/data/synthetic\n",
      "Created: mortgage-credit-risk-modeling/models/saved_models\n",
      "Created: mortgage-credit-risk-modeling/models/model_artifacts\n",
      "Created: mortgage-credit-risk-modeling/results/figures\n",
      "Created: mortgage-credit-risk-modeling/results/tables\n",
      "Created: mortgage-credit-risk-modeling/results/reports\n",
      "Created: mortgage-credit-risk-modeling/src\n",
      "Created: mortgage-credit-risk-modeling/docs\n",
      "Created: mortgage-credit-risk-modeling/tests\n",
      "Summary: 12 created, 0 already existed\n"
     ]
    }
   ],
   "source": [
    "\n",
    "# Create all project directories inside the project folder\n",
    "created_count = 0\n",
    "existing_count = 0\n",
    "\n",
    "print(f\"Creating directories inside '{PROJECT_FOLDER}' folder...\")\n",
    "\n",
    "for directory in PROJECT_DIRECTORIES:\n",
    "    # Create full path inside project folder\n",
    "    full_path = os.path.join(PROJECT_FOLDER, directory)\n",
    "    \n",
    "    if not os.path.exists(full_path):\n",
    "        os.makedirs(full_path)\n",
    "        print(f\"Created: {full_path}\")\n",
    "        created_count += 1\n",
    "    else:\n",
    "        print(f\"Exists:  {full_path}\")\n",
    "        existing_count += 1\n",
    "\n",
    "print(f\"Summary: {created_count} created, {existing_count} already existed\")\n"
   ]
  },
  {
   "cell_type": "code",
   "execution_count": 8,
   "id": "779cb388-0263-4a0b-b9be-a3bd15462f64",
   "metadata": {},
   "outputs": [
    {
     "name": "stdout",
     "output_type": "stream",
     "text": [
      "PROJECT CONFIGURATION\n",
      "Project Folder: mortgage-credit-risk-modeling\n",
      "\n",
      "Project Information:\n",
      "  Name: Mortgage Credit Risk Modeling\n",
      "  Version: 1.0\n",
      "  Author: Graduate Student - Economics Program\n",
      "  Course: Advanced Econometrics and Financial Risk Management\n",
      "  Date: March 2025\n",
      "  Data Period: 2010Q1 to 2024Q4 (15 years)\n",
      "\n",
      "Analysis Parameters:\n",
      "  Sample Size: 100,000\n",
      "  Observation Months: 60\n",
      "  Random Seed: 42\n",
      "  Test Size: 0.2\n",
      "  Validation Size: 0.2\n",
      "  Cv Folds: 5\n",
      "  Start Date: 2010-01-01\n",
      "  End Date: 2024-12-31\n",
      "  Analysis Years: 15\n",
      "\n",
      "Data Coverage: 15 years (2010-2024) - Industry Standard\n",
      "This period captures:\n",
      "  - Post-crisis recovery (2010-2012)\n",
      "  - Low interest rate environment (2013-2015)\n",
      "  - Economic expansion (2016-2019)\n",
      "  - COVID-19 pandemic impact (2020-2021)\n",
      "  - Interest rate normalization (2022-2024)\n",
      "\n",
      "This timeframe mirrors what major banks use for model development\n"
     ]
    }
   ],
   "source": [
    "\n",
    "# Project metadata\n",
    "PROJECT_INFO = {\n",
    "    'name': 'Mortgage Credit Risk Modeling',\n",
    "    'version': '1.0',\n",
    "    'author': 'Graduate Student - Economics Program',\n",
    "    'course': 'Advanced Econometrics and Financial Risk Management',\n",
    "    'date': 'March 2025',\n",
    "    'data_period': '2010Q1 to 2024Q4 (15 years)'\n",
    "}\n",
    "\n",
    "# Analysis parameters following industry standards\n",
    "ANALYSIS_CONFIG = {\n",
    "    'sample_size': 100000,\n",
    "    'observation_months': 60,\n",
    "    'random_seed': 42,\n",
    "    'test_size': 0.20,\n",
    "    'validation_size': 0.20,\n",
    "    'cv_folds': 5,\n",
    "    'start_date': '2010-01-01',  # Post-financial crisis lending standards\n",
    "    'end_date': '2024-12-31',    # Current data\n",
    "    'analysis_years': 15         # Industry standard timeframe\n",
    "}\n",
    "\n",
    "print(\"PROJECT CONFIGURATION\")\n",
    "PROJECT_FOLDER: 'mortgage-credit-risk-modeling'\n",
    "print(f\"Project Folder: {PROJECT_FOLDER}\")\n",
    "print(\"\\nProject Information:\")\n",
    "for key, value in PROJECT_INFO.items():\n",
    "    print(f\"  {key.replace('_', ' ').title()}: {value}\")\n",
    "\n",
    "print(\"\\nAnalysis Parameters:\")\n",
    "for key, value in ANALYSIS_CONFIG.items():\n",
    "    if isinstance(value, int) and value >= 1000:\n",
    "        print(f\"  {key.replace('_', ' ').title()}: {value:,}\")\n",
    "    else:\n",
    "        print(f\"  {key.replace('_', ' ').title()}: {value}\")\n",
    "\n",
    "print(f\"\\nData Coverage: 15 years (2010-2024) - Industry Standard\")\n",
    "print(\"This period captures:\")\n",
    "print(\"  - Post-crisis recovery (2010-2012)\")\n",
    "print(\"  - Low interest rate environment (2013-2015)\")\n",
    "print(\"  - Economic expansion (2016-2019)\")\n",
    "print(\"  - COVID-19 pandemic impact (2020-2021)\")\n",
    "print(\"  - Interest rate normalization (2022-2024)\")\n",
    "print(\"\\nThis timeframe mirrors what major banks use for model development\")"
   ]
  },
  {
   "cell_type": "code",
   "execution_count": 9,
   "id": "10bbeede-5c25-43e6-8721-152ef1bb7db1",
   "metadata": {},
   "outputs": [
    {
     "name": "stdout",
     "output_type": "stream",
     "text": [
      "RISK MODELING PARAMETERS\n",
      "Credit Risk Standards:\n",
      "  Default Definition Days: 90\n",
      "  Loss Given Default Floor: 0.0\n",
      "  Loss Given Default Ceiling: 1.0\n",
      "  Probability Threshold: 0.5\n",
      "  Confidence Level: 0.95\n",
      "  Time Horizon Months: 12\n",
      "\n",
      "Economic Stress Testing Scenarios:\n",
      "\n",
      "Baseline Economic Scenario:\n",
      "  Description: Normal economic conditions with steady growth\n",
      "  Unemployment: 4.0%\n",
      "  GDP Growth: 2.5%\n",
      "  House Prices: +3.0%\n",
      "\n",
      "Adverse Economic Scenario:\n",
      "  Description: Moderate economic downturn with job losses\n",
      "  Unemployment: 7.5%\n",
      "  GDP Growth: -1.5%\n",
      "  House Prices: -5.0%\n",
      "\n",
      "Severely Adverse Scenario:\n",
      "  Description: Severe economic recession similar to 2008-2009\n",
      "  Unemployment: 10.0%\n",
      "  GDP Growth: -3.0%\n",
      "  House Prices: -15.0%\n"
     ]
    }
   ],
   "source": [
    "\n",
    "\n",
    "# Credit risk modeling parameters following industry standards\n",
    "RISK_PARAMETERS = {\n",
    "    'default_definition_days': 90,\n",
    "    'loss_given_default_floor': 0.0,\n",
    "    'loss_given_default_ceiling': 1.0,\n",
    "    'probability_threshold': 0.5,\n",
    "    'confidence_level': 0.95,\n",
    "    'time_horizon_months': 12\n",
    "}\n",
    "\n",
    "# Economic stress testing scenarios following Federal Reserve CCAR framework\n",
    "STRESS_SCENARIOS = {\n",
    "    'baseline': {\n",
    "        'name': 'Baseline Economic Scenario',\n",
    "        'unemployment_rate': 4.0,\n",
    "        'gdp_growth_rate': 2.5,\n",
    "        'house_price_change': 3.0,\n",
    "        'description': 'Normal economic conditions with steady growth'\n",
    "    },\n",
    "    'adverse': {\n",
    "        'name': 'Adverse Economic Scenario', \n",
    "        'unemployment_rate': 7.5,\n",
    "        'gdp_growth_rate': -1.5,\n",
    "        'house_price_change': -5.0,\n",
    "        'description': 'Moderate economic downturn with job losses'\n",
    "    },\n",
    "    'severely_adverse': {\n",
    "        'name': 'Severely Adverse Scenario',\n",
    "        'unemployment_rate': 10.0,\n",
    "        'gdp_growth_rate': -3.0,\n",
    "        'house_price_change': -15.0,\n",
    "        'description': 'Severe economic recession similar to 2008-2009'\n",
    "    }\n",
    "}\n",
    "\n",
    "print(\"RISK MODELING PARAMETERS\")\n",
    "print(\"Credit Risk Standards:\")\n",
    "for key, value in RISK_PARAMETERS.items():\n",
    "    print(f\"  {key.replace('_', ' ').title()}: {value}\")\n",
    "\n",
    "print(f\"\\nEconomic Stress Testing Scenarios:\")\n",
    "for scenario_key, scenario in STRESS_SCENARIOS.items():\n",
    "    print(f\"\\n{scenario['name']}:\")\n",
    "    print(f\"  Description: {scenario['description']}\")\n",
    "    print(f\"  Unemployment: {scenario['unemployment_rate']}%\")\n",
    "    print(f\"  GDP Growth: {scenario['gdp_growth_rate']}%\") \n",
    "    print(f\"  House Prices: {scenario['house_price_change']:+.1f}%\")\n",
    "\n",
    "\n"
   ]
  },
  {
   "cell_type": "code",
   "execution_count": 10,
   "id": "89f41888-4299-49d1-b4b4-d6b9c427d3d4",
   "metadata": {},
   "outputs": [
    {
     "name": "stdout",
     "output_type": "stream",
     "text": [
      "FILE PATH CONFIGURATION\n",
      "  Raw Data: mortgage-credit-risk-modeling/data/raw/ - EXISTS\n",
      "  Processed Data: mortgage-credit-risk-modeling/data/processed/ - EXISTS\n",
      "  Synthetic Data: mortgage-credit-risk-modeling/data/synthetic/ - EXISTS\n",
      "  Acquisition File: mortgage-credit-risk-modeling/data/raw/acquisition_data.csv\n",
      "  Performance File: mortgage-credit-risk-modeling/data/raw/performance_data.csv\n",
      "  Master Dataset: mortgage-credit-risk-modeling/data/processed/master_dataset.csv\n",
      "  Models: mortgage-credit-risk-modeling/models/saved_models/ - EXISTS\n",
      "  Model Reports: mortgage-credit-risk-modeling/models/model_artifacts/ - EXISTS\n",
      "  Figures: mortgage-credit-risk-modeling/results/figures/ - EXISTS\n",
      "  Tables: mortgage-credit-risk-modeling/results/tables/ - EXISTS\n",
      "  Final Report: mortgage-credit-risk-modeling/results/reports/ - EXISTS\n",
      "  Notebooks: mortgage-credit-risk-modeling/notebooks/ - EXISTS\n",
      "\n",
      "SETUP VERIFICATION\n",
      "All directories created successfully\n",
      "Configuration parameters defined\n",
      "Analysis environment ready\n",
      "Will analyze 100,000 mortgage loans\n",
      "60 months of performance data\n",
      "3 economic scenarios configured\n",
      "\n",
      "Notebook 01 completed at 01:38 PM\n",
      "Next step: Proceed to Notebook 02 - Data Understanding and Exploration\n"
     ]
    }
   ],
   "source": [
    "\n",
    "# Import the os module \n",
    "import os\n",
    "from datetime import datetime  # Also importing datetime since it's used at the end\n",
    "\n",
    "# Define standardized file paths inside project folder\n",
    "FILE_PATHS = {\n",
    "    'raw_data': f'{PROJECT_FOLDER}/data/raw/',\n",
    "    'processed_data': f'{PROJECT_FOLDER}/data/processed/',\n",
    "    'synthetic_data': f'{PROJECT_FOLDER}/data/synthetic/',\n",
    "    'acquisition_file': f'{PROJECT_FOLDER}/data/raw/acquisition_data.csv',\n",
    "    'performance_file': f'{PROJECT_FOLDER}/data/raw/performance_data.csv',\n",
    "    'master_dataset': f'{PROJECT_FOLDER}/data/processed/master_dataset.csv',\n",
    "    'models': f'{PROJECT_FOLDER}/models/saved_models/',\n",
    "    'model_reports': f'{PROJECT_FOLDER}/models/model_artifacts/',\n",
    "    'figures': f'{PROJECT_FOLDER}/results/figures/',\n",
    "    'tables': f'{PROJECT_FOLDER}/results/tables/',\n",
    "    'final_report': f'{PROJECT_FOLDER}/results/reports/',\n",
    "    'notebooks': f'{PROJECT_FOLDER}/notebooks/'\n",
    "}\n",
    "\n",
    "# Verify setup completion\n",
    "print(\"FILE PATH CONFIGURATION\")\n",
    "all_paths_exist = True\n",
    "\n",
    "for path_name, path_value in FILE_PATHS.items():\n",
    "    if path_value.endswith('/'):\n",
    "        exists = os.path.exists(path_value)\n",
    "        status = \"EXISTS\" if exists else \"MISSING\"\n",
    "        print(f\"  {path_name.replace('_', ' ').title()}: {path_value} - {status}\")\n",
    "        if not exists:\n",
    "            all_paths_exist = False\n",
    "    else:\n",
    "        print(f\"  {path_name.replace('_', ' ').title()}: {path_value}\")\n",
    "\n",
    "print(\"\\nSETUP VERIFICATION\")\n",
    "if all_paths_exist:\n",
    "    print(\"All directories created successfully\")\n",
    "    print(\"Configuration parameters defined\")\n",
    "    print(\"Analysis environment ready\")\n",
    "    print(f\"Will analyze {ANALYSIS_CONFIG['sample_size']:,} mortgage loans\")\n",
    "    print(f\"{ANALYSIS_CONFIG['observation_months']} months of performance data\")\n",
    "    print(f\"{len(STRESS_SCENARIOS)} economic scenarios configured\")\n",
    "else:\n",
    "    print(\"Some directories missing - please rerun directory creation\")\n",
    "\n",
    "print(f\"\\nNotebook 01 completed at {datetime.now().strftime('%I:%M %p')}\")\n",
    "print(\"Next step: Proceed to Notebook 02 - Data Understanding and Exploration\")"
   ]
  }
 ],
 "metadata": {
  "kernelspec": {
   "display_name": "Python [conda env:base] *",
   "language": "python",
   "name": "conda-base-py"
  },
  "language_info": {
   "codemirror_mode": {
    "name": "ipython",
    "version": 3
   },
   "file_extension": ".py",
   "mimetype": "text/x-python",
   "name": "python",
   "nbconvert_exporter": "python",
   "pygments_lexer": "ipython3",
   "version": "3.12.2"
  }
 },
 "nbformat": 4,
 "nbformat_minor": 5
}
